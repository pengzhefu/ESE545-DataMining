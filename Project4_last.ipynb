{
 "cells": [
  {
   "cell_type": "markdown",
   "metadata": {},
   "source": [
    "## Problem 1\n",
    "Using this information, formulate a multi-armed bandit problem. Your goal should be to achieve the lowest regret possible over the time window given (number of rounds, i.e, columns)."
   ]
  },
  {
   "cell_type": "code",
   "execution_count": 1,
   "metadata": {},
   "outputs": [
    {
     "name": "stdout",
     "output_type": "stream",
     "text": [
      "k 50\n",
      "T 32657\n"
     ]
    }
   ],
   "source": [
    "# read data\n",
    "import pandas as pd\n",
    "import random\n",
    "import numpy as np\n",
    "import time\n",
    "data = pd.read_csv('yahoo_ad_clicks.csv',header = None)\n",
    "kt = data.shape # 50 ads; 32657 rounds\n",
    "k = kt[0]\n",
    "T = kt[1]\n",
    "print(\"k\",k)\n",
    "print(\"T\",T)\n",
    "data = np.array(data)"
   ]
  },
  {
   "cell_type": "markdown",
   "metadata": {},
   "source": [
    "## Problem 2\n",
    "Design a strategy to solve your multi-armed bandit problem with only partial feed- back. In other words, you may only observe the reward for the category of ad you choose to serve at any given time. You may use any methods we have seen so far in the course to solve this problem."
   ]
  },
  {
   "cell_type": "code",
   "execution_count": 2,
   "metadata": {},
   "outputs": [],
   "source": [
    "## e-greedy\n",
    "import math\n",
    "def e_greedy(data):\n",
    "    kt = data.shape\n",
    "    k = kt[0]\n",
    "    T = kt[1]\n",
    "    chosen_count = np.zeros(k)\n",
    "    reward_count = np.zeros(k)\n",
    "    exp = np.zeros(k)\n",
    "    actual_mu = []\n",
    "    for t in range(0,T):\n",
    "        ## In the first range, explore more\n",
    "        e = 1/np.log(t+5)\n",
    "        p = np.random.uniform(0,1)\n",
    "        if p <= e:         \n",
    "            idx = np.random.randint(0,50) ## explore\n",
    "        else:            \n",
    "            idx = np.argmax(exp) ## exploit\n",
    "        reward = data[idx,t]\n",
    "        chosen_count[idx] += 1\n",
    "        if reward == 1:\n",
    "            reward_count[idx] += 1\n",
    "        exp[idx] = reward_count[idx]/chosen_count[idx]\n",
    "        actual_mu.append(exp[idx])  \n",
    "    # calculate regret\n",
    "    best_miu = exp[np.argmax(exp)]\n",
    "    diff_miu = 0\n",
    "    regret = []\n",
    "    for t in range(0,T):\n",
    "        diff_miu += (best_miu-actual_mu[t])\n",
    "        regret.append(diff_miu/(t+1))\n",
    "    return regret, np.sum(reward_count,axis = 0)"
   ]
  },
  {
   "cell_type": "code",
   "execution_count": 3,
   "metadata": {},
   "outputs": [],
   "source": [
    "regret_egreedy, reward_egreedy = e_greedy(data)"
   ]
  },
  {
   "cell_type": "code",
   "execution_count": 4,
   "metadata": {},
   "outputs": [
    {
     "data": {
      "text/plain": [
       "9589.0"
      ]
     },
     "execution_count": 4,
     "metadata": {},
     "output_type": "execute_result"
    }
   ],
   "source": [
    "reward_egreedy"
   ]
  },
  {
   "cell_type": "code",
   "execution_count": 5,
   "metadata": {},
   "outputs": [],
   "source": [
    "## define a function to calculate bonus in each round\n",
    "def calculate_bonus(r, ads, chosen_count): ## r means the round, ads means the advertisement\n",
    "    if chosen_count[ads] == 0:\n",
    "        return 1\n",
    "    else:\n",
    "        return np.sqrt(2 * np.log(r) / chosen_count[ads])\n",
    "    \n",
    "def try_all_ad_once(data):\n",
    "    kt = data.shape\n",
    "    k = kt[0]\n",
    "    T = kt[1]\n",
    "    ## Getting the initial estimated_miu\n",
    "    estimated_miu = np.zeros(k)\n",
    "    prob = np.sum(data[:,T-k:],axis=1)/k\n",
    "    for i in range(k):\n",
    "        ## The probability that this row becomes 1\n",
    "        estimated_miu[i] = np.random.binomial(n=1, p=prob[i])\n",
    "    return estimated_miu\n",
    "\n",
    "## Starting UCB algorithm\n",
    "def UCB1(data):   \n",
    "    kt = data.shape\n",
    "    k = kt[0]\n",
    "    T = kt[1]\n",
    "    chosen_count = np.ones(k)\n",
    "    reward_count = np.zeros(k)\n",
    "    exp = np.zeros(k)\n",
    "    total_reward = 0\n",
    "    best_loss = 0\n",
    "    actual_loss = 0\n",
    "    estimated_miu = try_all_ad_once(data)\n",
    "    actual_miu = []\n",
    "    for t in range(1,(T-k+1)):\n",
    "        ## Calculate each ad's value of ucb\n",
    "        upper_bound_probs = [estimated_miu[item] + calculate_bonus(t, item, chosen_count) for item in range(k)]\n",
    "        ## Pick the ad who has max value\n",
    "        ad = np.argmax(upper_bound_probs)\n",
    "        ## Observe the rewards (not sure), reward is 0 or 1.\n",
    "        reward = data[:,t][ad]\n",
    "        ## Updating the counts of the ad selected\n",
    "        chosen_count[ad] += 1\n",
    "        ## Updating the estimated value the ad selected\n",
    "        estimated_miu[ad] = ((chosen_count[ad]-1)*estimated_miu[ad]+reward)/chosen_count[ad]\n",
    "        actual_miu.append(estimated_miu[ad])\n",
    "        ## Recording the number of rewards\n",
    "        total_reward += reward\n",
    "        if reward == 1:\n",
    "            reward_count[ad] += 1\n",
    "        exp[ad] = reward_count[ad]/chosen_count[ad]\n",
    "    ## Calculating regret using miu\n",
    "    best_miu = exp[np.argmax(exp)]\n",
    "    dif_miu = 0\n",
    "    regret = []\n",
    "    for t in range(1,T-k+1):\n",
    "        dif_miu += best_miu - actual_miu[t-1]\n",
    "        regret.append(dif_miu/t)\n",
    "    return regret,total_reward"
   ]
  },
  {
   "cell_type": "code",
   "execution_count": 6,
   "metadata": {},
   "outputs": [],
   "source": [
    "regret_ucb1,reward_ucb1 = UCB1(data)"
   ]
  },
  {
   "cell_type": "code",
   "execution_count": 7,
   "metadata": {},
   "outputs": [
    {
     "data": {
      "text/plain": [
       "10155"
      ]
     },
     "execution_count": 7,
     "metadata": {},
     "output_type": "execute_result"
    }
   ],
   "source": [
    "reward_ucb1"
   ]
  },
  {
   "cell_type": "code",
   "execution_count": 8,
   "metadata": {},
   "outputs": [],
   "source": [
    "# Thompson\n",
    "def thompson(data):\n",
    "    kt = data.shape\n",
    "    k = kt[0]\n",
    "    T = kt[1]\n",
    "    S = [0]*k\n",
    "    F = [0]*k\n",
    "    beta = []\n",
    "    reward = 0\n",
    "    chosen_count = np.ones(k)\n",
    "    reward_count = np.zeros(k)\n",
    "    best_arm = np.argmax(np.sum(data,axis=1))\n",
    "    best_loss = 0\n",
    "    actual_loss = 0\n",
    "    regret = []\n",
    "    actual_miu = []\n",
    "    for t in range(0,T):\n",
    "        # select ad\n",
    "        theta_t = []\n",
    "        for i in range(0,k):\n",
    "            theta_t.append(np.random.beta(S[i]+1,F[i]+1))\n",
    "        chosen_arm = np.argmax(theta_t)\n",
    "        \n",
    "        this_reward = data[chosen_arm,t]\n",
    "        reward += this_reward\n",
    "        if(this_reward == 1):\n",
    "            S[chosen_arm] += 1\n",
    "        else:\n",
    "            F[chosen_arm] += 1\n",
    "        actual_miu.append(S[chosen_arm]/(S[chosen_arm] + F[chosen_arm]))\n",
    "    dif_miu = 0\n",
    "    best_idx = np.argmax(np.array(S)/(np.array(S)+np.array(F)))\n",
    "    best_miu = np.array(S[best_idx])/(np.array(S[best_idx])+np.array(F[best_idx]))\n",
    "    for t in range(0,T):\n",
    "        dif_miu += best_miu - actual_miu[t]\n",
    "        regret.append(dif_miu/(t+1))       \n",
    "    return regret,reward"
   ]
  },
  {
   "cell_type": "code",
   "execution_count": 9,
   "metadata": {},
   "outputs": [],
   "source": [
    "regret_thompson,reward_thompson = thompson(data)"
   ]
  },
  {
   "cell_type": "code",
   "execution_count": 10,
   "metadata": {},
   "outputs": [
    {
     "data": {
      "text/plain": [
       "11025"
      ]
     },
     "execution_count": 10,
     "metadata": {},
     "output_type": "execute_result"
    }
   ],
   "source": [
    "reward_thompson"
   ]
  },
  {
   "cell_type": "code",
   "execution_count": 13,
   "metadata": {},
   "outputs": [],
   "source": [
    "from random import choices\n",
    "def exp3(data):\n",
    "    kt = data.shape # 50 ads; 32657 rounds\n",
    "    k = kt[0]\n",
    "    T = kt[1]\n",
    "    ita_t = list(map(lambda x: np.sqrt(np.log(k)/(k*x)), range(1,T+1)))\n",
    "    p_t = [1/k]*k\n",
    "    L = [0]*k\n",
    "    cumu_L = [0]*k\n",
    "    reward = 0\n",
    "    regret = []\n",
    "    dif_loss = 0\n",
    "    best_loss = 0\n",
    "    actual_loss = 0\n",
    "    for t in range(0,T):\n",
    "        chosen_arm = choices(range(0,k),p_t)[0]\n",
    "        cumu_L += 1 - data[:,t]\n",
    "        best_arm = np.argmin(cumu_L)\n",
    "        this_reward = data[chosen_arm,t]\n",
    "        reward += this_reward\n",
    "        actual_loss += 1 - data[chosen_arm,t]\n",
    "        best_loss = cumu_L[best_arm]\n",
    "        \n",
    "        dif_loss = actual_loss - best_loss\n",
    "        regret.append(dif_loss/(t+1)) \n",
    "        \n",
    "        l_it_hat = (1 - data[chosen_arm,t])/p_t[chosen_arm]\n",
    "        L[chosen_arm] += l_it_hat\n",
    "        # update p_t\n",
    "        vec = np.exp(-ita_t[t]*np.array(L))\n",
    "        p_t = vec/sum(vec)\n",
    "    return regret,reward"
   ]
  },
  {
   "cell_type": "code",
   "execution_count": 14,
   "metadata": {},
   "outputs": [],
   "source": [
    "regret_exp3, reward_exp3 = exp3(data)"
   ]
  },
  {
   "cell_type": "code",
   "execution_count": 15,
   "metadata": {},
   "outputs": [
    {
     "data": {
      "text/plain": [
       "9518"
      ]
     },
     "execution_count": 15,
     "metadata": {},
     "output_type": "execute_result"
    }
   ],
   "source": [
    "reward_exp3"
   ]
  },
  {
   "cell_type": "code",
   "execution_count": 17,
   "metadata": {},
   "outputs": [
    {
     "data": {
      "image/png": "[encoded data removed]",
      "text/plain": [
       "<matplotlib.figure.Figure at 0x12172d470>"
      ]
     },
     "metadata": {},
     "output_type": "display_data"
    }
   ],
   "source": [
    "from matplotlib import pyplot as plt     \n",
    "plt.plot(range(1,T+1),regret_egreedy)\n",
    "plt.plot(range(1,T-k+1),regret_ucb1)\n",
    "plt.plot(range(1,T+1),regret_thompson)\n",
    "plt.plot(range(1,T+1),regret_exp3)\n",
    "plt.legend(labels = ['egreedy','ucb1','thompson','exp3'], loc = 'best')\n",
    "plt.xlabel('t')\n",
    "plt.ylabel('R_t/t')\n",
    "plt.title(\"Regret divided by t\")\n",
    "plt.show()"
   ]
  },
  {
   "cell_type": "markdown",
   "metadata": {},
   "source": [
    "## Problem 3\n",
    "Design a strategy to solve your multi-armed bandit problem with full feedback, i.e., with observing all rewards after you serve an ad. Compare the regret you experience here with the regret from Problem 2, and comment on it."
   ]
  },
  {
   "cell_type": "code",
   "execution_count": 18,
   "metadata": {},
   "outputs": [],
   "source": [
    "# multiplicative weight updates (full feedback)\n",
    "def multiWeight(data):\n",
    "    kt = data.shape # 50 ads; 32657 rounds\n",
    "    k = kt[0]\n",
    "    T = kt[1]\n",
    "    ita_t = 1/np.sqrt(T)\n",
    "    p_t = [0]*k\n",
    "    w = [1]*k\n",
    "    cumu_L = [0]*k\n",
    "    reward = 0\n",
    "    regret = []\n",
    "    dif_loss = 0\n",
    "    best_loss = 0\n",
    "    actual_loss = 0\n",
    "    for t in range(0,T):\n",
    "        p_t = np.divide(w,sum(w))\n",
    "        chosen_arm = choices(range(0,k),p_t)[0]\n",
    "        cumu_L += 1 - data[:,t]\n",
    "        best_arm = np.argmin(cumu_L)\n",
    "        this_reward = data[chosen_arm,t]\n",
    "        reward += this_reward\n",
    "     \n",
    "        actual_loss += 1 - data[chosen_arm,t]\n",
    "        best_loss = cumu_L[best_arm]\n",
    "        \n",
    "        dif_loss = actual_loss - best_loss\n",
    "        regret.append(dif_loss/(t+1))  \n",
    "        \n",
    "        # observe the costs of decisions L at that round\n",
    "        L = 1 - data[:,t]\n",
    "        # penalize the costly decisions by updating their weights as follows\n",
    "        w = np.multiply(w,(1-ita_t*np.array(L)))\n",
    "    return regret, reward"
   ]
  },
  {
   "cell_type": "code",
   "execution_count": 19,
   "metadata": {},
   "outputs": [],
   "source": [
    "regret_multiw, reward_multiw = multiWeight(data)"
   ]
  },
  {
   "cell_type": "code",
   "execution_count": 20,
   "metadata": {},
   "outputs": [
    {
     "data": {
      "image/png": "[encoded data removed]",
      "text/plain": [
       "<matplotlib.figure.Figure at 0x11b65abe0>"
      ]
     },
     "metadata": {},
     "output_type": "display_data"
    }
   ],
   "source": [
    "# regret\n",
    "from matplotlib import pyplot as plt     \n",
    "plt.plot(range(1,T+1),regret_egreedy)\n",
    "plt.plot(range(1,T-k+1),regret_ucb1)\n",
    "plt.plot(range(1,T+1),regret_thompson)\n",
    "plt.plot(range(1,T+1),regret_exp3)\n",
    "plt.plot(range(1,T+1),regret_multiw)\n",
    "plt.legend(labels = ['egreedy','ucb1','thompson','exp3','multiw'], loc = 'best')\n",
    "plt.xlabel('t')\n",
    "plt.ylabel('R_t/t')\n",
    "plt.title(\"Regret divided by t\")\n",
    "plt.show()"
   ]
  },
  {
   "cell_type": "markdown",
   "metadata": {},
   "source": [
    "## Problem 4\n",
    "The 3 groups with the smallest regret for partial feedback will receive bonus points. To receive these bonus points you must fully explain your implementation, why you used it and any parameters you chose, and cannot use knowledge about the structure of the data."
   ]
  },
  {
   "cell_type": "code",
   "execution_count": 21,
   "metadata": {},
   "outputs": [
    {
     "data": {
      "image/png": "[encoded data removed]",
      "text/plain": [
       "<matplotlib.figure.Figure at 0x121c019b0>"
      ]
     },
     "metadata": {},
     "output_type": "display_data"
    }
   ],
   "source": [
    "plt.plot(range(1,T+1),regret_thompson)\n",
    "plt.legend(labels = ['Thompson'], loc = 'best')\n",
    "plt.title(\"Regret divided by t (Thompson)\")\n",
    "plt.show()"
   ]
  },
  {
   "cell_type": "code",
   "execution_count": null,
   "metadata": {},
   "outputs": [],
   "source": []
  }
 ],
 "metadata": {
  "kernelspec": {
   "display_name": "Python 3",
   "language": "python",
   "name": "python3"
  },
  "language_info": {
   "codemirror_mode": {
    "name": "ipython",
    "version": 3
   },
   "file_extension": ".py",
   "mimetype": "text/x-python",
   "name": "python",
   "nbconvert_exporter": "python",
   "pygments_lexer": "ipython3",
   "version": "3.6.4"
  }
 },
 "nbformat": 4,
 "nbformat_minor": 2
}
