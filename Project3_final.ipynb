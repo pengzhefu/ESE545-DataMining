{
 "cells": [
  {
   "cell_type": "markdown",
   "metadata": {},
   "source": [
    "## Problem 1\n",
    "Download the Yelp User dataset from Canvas. In this dataset, each row represents a unique user, while each column describes a specific feature. The first line of the csv file contains identifiers explaining each column.\n",
    "Using this data, formulate a clustering problem. You should use as many of the available features as possible (but need not use them all). You may change the data representation or create new features from this data, if you wish."
   ]
  },
  {
   "cell_type": "code",
   "execution_count": 1,
   "metadata": {},
   "outputs": [],
   "source": [
    "import pandas as pd\n",
    "import random\n",
    "import numpy as np\n",
    "import time\n",
    "data = pd.read_csv('yelp.csv')"
   ]
  },
  {
   "cell_type": "code",
   "execution_count": 2,
   "metadata": {},
   "outputs": [],
   "source": [
    "# data # 1326100 * 21"
   ]
  },
  {
   "cell_type": "code",
   "execution_count": 3,
   "metadata": {},
   "outputs": [],
   "source": [
    "# data perprocessing\n",
    "data['yelping_year'] = pd.to_numeric(data['yelping_since'].str.split('-').str[0])\n",
    "data['yelping_year'] = data['yelping_year'].map(lambda x: 2018 - x)\n",
    "data['ufcf_sum'] = data['useful']+data['funny']+data['cool']+data['fans']\n",
    "data['compliment_sum'] = data['compliment_more']+data['compliment_profile']+data['compliment_cute']+data['compliment_list']+data['compliment_note']+data['compliment_plain']+data['compliment_cool']+data['compliment_funny']+data['compliment_writer']+data['compliment_photos']\n",
    "data['elite_count'] = data['elite'].str.split(',')\n",
    "data['elite_count'] = data['elite_count'].map(lambda x:len(x) if x != ['None'] else 0)"
   ]
  },
  {
   "cell_type": "code",
   "execution_count": 4,
   "metadata": {},
   "outputs": [],
   "source": [
    "data1 = data[['review_count','yelping_year','ufcf_sum','compliment_sum','elite_count']]"
   ]
  },
  {
   "cell_type": "code",
   "execution_count": 5,
   "metadata": {},
   "outputs": [
    {
     "data": {
      "text/html": [
       "<div>\n",
       "<style scoped>\n",
       "    .dataframe tbody tr th:only-of-type {\n",
       "        vertical-align: middle;\n",
       "    }\n",
       "\n",
       "    .dataframe tbody tr th {\n",
       "        vertical-align: top;\n",
       "    }\n",
       "\n",
       "    .dataframe thead th {\n",
       "        text-align: right;\n",
       "    }\n",
       "</style>\n",
       "<table border=\"1\" class=\"dataframe\">\n",
       "  <thead>\n",
       "    <tr style=\"text-align: right;\">\n",
       "      <th></th>\n",
       "      <th>review_count</th>\n",
       "      <th>yelping_year</th>\n",
       "      <th>ufcf_sum</th>\n",
       "      <th>compliment_sum</th>\n",
       "      <th>elite_count</th>\n",
       "    </tr>\n",
       "  </thead>\n",
       "  <tbody>\n",
       "    <tr>\n",
       "      <th>0</th>\n",
       "      <td>10</td>\n",
       "      <td>5</td>\n",
       "      <td>0</td>\n",
       "      <td>0</td>\n",
       "      <td>0</td>\n",
       "    </tr>\n",
       "    <tr>\n",
       "      <th>1</th>\n",
       "      <td>1</td>\n",
       "      <td>1</td>\n",
       "      <td>0</td>\n",
       "      <td>0</td>\n",
       "      <td>0</td>\n",
       "    </tr>\n",
       "    <tr>\n",
       "      <th>2</th>\n",
       "      <td>6</td>\n",
       "      <td>3</td>\n",
       "      <td>0</td>\n",
       "      <td>0</td>\n",
       "      <td>0</td>\n",
       "    </tr>\n",
       "    <tr>\n",
       "      <th>3</th>\n",
       "      <td>3</td>\n",
       "      <td>2</td>\n",
       "      <td>0</td>\n",
       "      <td>0</td>\n",
       "      <td>0</td>\n",
       "    </tr>\n",
       "    <tr>\n",
       "      <th>4</th>\n",
       "      <td>11</td>\n",
       "      <td>6</td>\n",
       "      <td>4</td>\n",
       "      <td>1</td>\n",
       "      <td>0</td>\n",
       "    </tr>\n",
       "  </tbody>\n",
       "</table>\n",
       "</div>"
      ],
      "text/plain": [
       "   review_count  yelping_year  ufcf_sum  compliment_sum  elite_count\n",
       "0            10             5         0               0            0\n",
       "1             1             1         0               0            0\n",
       "2             6             3         0               0            0\n",
       "3             3             2         0               0            0\n",
       "4            11             6         4               1            0"
      ]
     },
     "execution_count": 5,
     "metadata": {},
     "output_type": "execute_result"
    }
   ],
   "source": [
    "data1.head()"
   ]
  },
  {
   "cell_type": "code",
   "execution_count": 6,
   "metadata": {},
   "outputs": [],
   "source": [
    "dataset = np.array(data1).astype(np.float64)"
   ]
  },
  {
   "cell_type": "markdown",
   "metadata": {},
   "source": [
    "## Problem 2\n",
    "Based on your problem formulation from Problem 1, implement an online version of the k-means clustering algorithm. For this problem, your initial cluster centroids should be chosen randomly. Once the cluster centroids are chosen, the next step is to iteratively improve the solution until a local optimum is achieved. As discussed in the lectures, Lloyd’s heuristic is one approach, but this requires taking a pass over the entire dataset each time, which is not feasible here. Instead, implement mini-batch k-means, which will adjust the centroids by taking a subset of the data each time."
   ]
  },
  {
   "cell_type": "code",
   "execution_count": 13,
   "metadata": {},
   "outputs": [],
   "source": [
    "def minibatchKmeans(k, b, data, T):\n",
    "    # initialization\n",
    "    centers = data[list(random.sample(range(0,len(data)),k))]\n",
    "    # record #updates for each centroid\n",
    "    v = np.zeros([k,1], dtype = float)\n",
    "    for i in range(T):\n",
    "        # Selecting the sample data\n",
    "        sample_data = data[list(random.sample(range(0,len(data)),b))]\n",
    "        # For each sample data, updating its nearest center\n",
    "        for j in range(b):\n",
    "            distance = np.linalg.norm((sample_data[j]-centers),axis = 1)\n",
    "            # Finding the center index\n",
    "            min_index = np.argmin(distance)\n",
    "            v[min_index] += 1\n",
    "            ita = 1/v[min_index]\n",
    "            centers[min_index]  = (1-ita)*centers[min_index] + ita*sample_data[j] \n",
    "    return centers"
   ]
  },
  {
   "cell_type": "code",
   "execution_count": 12,
   "metadata": {},
   "outputs": [
    {
     "name": "stdout",
     "output_type": "stream",
     "text": [
      "minute used:  0.4176529\n"
     ]
    }
   ],
   "source": [
    "start = time.clock()\n",
    "\n",
    "centers = minibatchKmeans(500, 1000, dataset, 1000) #k=50: 0.34min; k=500: 0.41min\n",
    "\n",
    "elapsed = (time.clock()-start)/60\n",
    "print(\"minute used: \",elapsed)"
   ]
  },
  {
   "cell_type": "markdown",
   "metadata": {},
   "source": [
    "## Problem 3.\n",
    "In this setting, the optimization problem being solved is highly non-convex, and many local minima exist; hence, the choice of the initial centroids can dramatically influence results. For this problem, implement the k-means++ initialization as discussed in class for the online mini-batch algorithm."
   ]
  },
  {
   "cell_type": "code",
   "execution_count": 16,
   "metadata": {},
   "outputs": [],
   "source": [
    "def disSqToCloseC(X,C):\n",
    "    '''\n",
    "    input: X, m*n; C, k*n\n",
    "    '''\n",
    "    dis = -2*np.dot(X,C.T) # m*k, all the distances between datas X and centers C\n",
    "    dis += np.sum(X**2,axis=1)[:,np.newaxis] # axis = 1, row\n",
    "    dis += np.sum(C**2,axis=1)[np.newaxis,:] # axis = 0, col\n",
    "    min_ds_sq = np.min(dis, axis = 1) # m*1 (minimum distance to centers)\n",
    "    return min_ds_sq"
   ]
  },
  {
   "cell_type": "code",
   "execution_count": 17,
   "metadata": {},
   "outputs": [],
   "source": [
    "def kmeanspp(data,k):\n",
    "    center_pos = []\n",
    "    total = 0\n",
    "    first = random.choice(range(len(data)))\n",
    "    center_pos.append(first)\n",
    "    for i in range(1,k):\n",
    "        weights = disSqToCloseC(data,data[center_pos])\n",
    "        weights1 = weights/sum(weights)\n",
    "        rand = random.random()\n",
    "        cdf = 0\n",
    "        idx = -1\n",
    "        while cdf < rand:\n",
    "            idx += 1\n",
    "            cdf += weights1[idx]\n",
    "        center_pos.append(idx)\n",
    "    return data[center_pos]"
   ]
  },
  {
   "cell_type": "code",
   "execution_count": 18,
   "metadata": {},
   "outputs": [],
   "source": [
    "def minibatchKmeanspp(k, b, data, T):\n",
    "    # initialization\n",
    "    centers = kmeanspp(data,k)\n",
    "    # #updates for each centroid\n",
    "    v = np.zeros([k,1], dtype = float)\n",
    "    for i in range(T):\n",
    "        # Selecting the sample data\n",
    "        sample_data = data[list(random.sample(range(0,len(data)),b))]\n",
    "        # For each sample data, finding the nearest center\n",
    "        for j in range(b):\n",
    "            distance = np.linalg.norm((sample_data[j]-centers),axis = 1)\n",
    "            # Finding the center index\n",
    "            min_index = np.argmin(distance)\n",
    "            v[min_index] += 1\n",
    "            ita = 1/v[min_index]\n",
    "            centers[min_index]  = (1-ita)*centers[min_index] + ita*sample_data[j] \n",
    "    return centers"
   ]
  },
  {
   "cell_type": "code",
   "execution_count": 22,
   "metadata": {},
   "outputs": [
    {
     "name": "stdout",
     "output_type": "stream",
     "text": [
      "minute used:  12.652489766666667\n"
     ]
    }
   ],
   "source": [
    "start = time.clock()\n",
    "\n",
    "center_pos = minibatchKmeanspp(300,1000,dataset,1000) # k=50:1min;k=300:12.65min\n",
    "\n",
    "elapsed = (time.clock()-start)/60\n",
    "print(\"minute used: \",elapsed)"
   ]
  },
  {
   "cell_type": "markdown",
   "metadata": {},
   "source": [
    "## Problem 4\n",
    "Design your own method of selecting initial cluster centroids. Remember that the dataset is quite large, so your initialization should be efficient. Your centroid selection algorithm should take no more than 5 minutes to run."
   ]
  },
  {
   "cell_type": "code",
   "execution_count": 108,
   "metadata": {},
   "outputs": [],
   "source": [
    "def getinitC(k,data,b,T):\n",
    "    ## First, finding the column which has highest standard deviation \n",
    "    dev_list = data.std(axis=0)\n",
    "    dev_list = dev_list.tolist() ## Converting to list to find the index\n",
    "    col_idx = dev_list.index(max(dev_list))\n",
    "    ## Then, we changed the order of the matrix accoring to the column order\n",
    "    order= np.argsort(data[:,col_idx]) # Finding the order that the elements of column in order (min -> max)  \n",
    "    data_neworder = data[order] ## Getting the dataset which is in new order\n",
    "    ## After that, we need to split the data into k parts.\n",
    "    dataset_list = []\n",
    "    for i in range(k):\n",
    "        dataset_list.append(data_neworder[i*(len(data_neworder)//k):(i+1)*(len(data_neworder)//k)])\n",
    "    if (len(data_neworder)%k) == 0:\n",
    "        pass\n",
    "    else:\n",
    "        ## If the number of points is not integer multiple of k, remaining points will be added to the last one cluster\n",
    "        dataset_list[-1] = np.r_[dataset_list[-1], data_neworder[-(len(data_neworder)-k*(len(data_neworder)//k)):]]\n",
    "    ## Now, we have a dataset_list, which have k items(matrixs),\n",
    "    ## We need to find only one center in each matrix\n",
    "    center_list = []\n",
    "    for matrix in dataset_list:\n",
    "        center_list.append(minibatchKmeans(1,b,matrix,T)) ## The list should have k items, each is 1*5.\n",
    "    ## If wanna return a matrix\n",
    "    centers_final = np.zeros([k,5])\n",
    "    for center in center_list:\n",
    "        centers_final = np.r_[centers_final,center]\n",
    "    centers_final = centers_final[k:,]\n",
    "    return centers_final"
   ]
  },
  {
   "cell_type": "code",
   "execution_count": 111,
   "metadata": {},
   "outputs": [],
   "source": [
    "def minibatchKmeansOwn(k, b, data, T):\n",
    "    # initialization\n",
    "    centers = np.array(getinitC(k,data,100,100))\n",
    "    # the counts of updating each centroid\n",
    "    v = np.zeros([k,1], dtype = float)\n",
    "    for i in range(T):\n",
    "        X = data[list(random.sample(range(0,len(data)),b))]\n",
    "        dis = -2*np.dot(X,centers.T) # b*k\n",
    "        dis += np.sum(X**2,axis=1)[:,np.newaxis] # axis = 1, row\n",
    "        dis += np.sum(centers**2,axis=1)[np.newaxis,:]\n",
    "        min_index = np.argmin(dis, axis=1) # b*1\n",
    "        for j in range(b):\n",
    "            idx = min_index[j]\n",
    "            v[idx] += 1\n",
    "            ita = 1/v[idx]\n",
    "            centers[idx] = (1-ita)*centers[idx] + ita*X[j] \n",
    "    return centers"
   ]
  },
  {
   "cell_type": "markdown",
   "metadata": {},
   "source": [
    "## Problem 5\n",
    "For each initialization method, generate plots showing the mean, minimum, and maximum distance to the cluster centroids for the dataset, and run this for several values of the number of centroids k, ranging from k = 5, . . . , 500. Which k has the lowest error, and how does that change based on the initialization? Which initialization is best?"
   ]
  },
  {
   "cell_type": "code",
   "execution_count": 101,
   "metadata": {},
   "outputs": [],
   "source": [
    "def evaluate(data, centers):\n",
    "    dis = -2*np.dot(data,centers.T) # m*k, all the distances between datas X and centers C\n",
    "    dis += np.sum(data**2,axis=1)[:,np.newaxis] # axis = 1, row\n",
    "    dis += np.sum(centers**2,axis=1)[np.newaxis,:] # axis = 0, col\n",
    "    dis = np.sqrt(np.abs(dis))    \n",
    "    min_d = np.min(dis,axis = 1)\n",
    "    mean = np.mean(min_d)\n",
    "    minn = np.min(min_d)\n",
    "    maxx = np.max(min_d)\n",
    "    return mean, minn, maxx"
   ]
  },
  {
   "cell_type": "code",
   "execution_count": 82,
   "metadata": {},
   "outputs": [
    {
     "name": "stdout",
     "output_type": "stream",
     "text": [
      "k 5\n",
      "k 10\n",
      "k 50\n",
      "k 100\n",
      "k 150\n",
      "k 200\n",
      "k 250\n",
      "k 300\n",
      "k 350\n",
      "k 400\n",
      "k 450\n",
      "k 500\n",
      "minute used:  5.558661699999963\n"
     ]
    }
   ],
   "source": [
    "# random\n",
    "start = time.clock()\n",
    "\n",
    "ks = [5,10,50,100,150,200,250,300,350,400,450,500] # time: 17min\n",
    "# k varies, b=1000, data, T=200\n",
    "centers = []\n",
    "means = []\n",
    "minns = []\n",
    "maxxs = []\n",
    "for k in ks:\n",
    "    print(\"k\",k)\n",
    "    center = minibatchKmeans(k, 1000, dataset, 200) \n",
    "    meann, minn, maxx = evaluate(dataset,center)\n",
    "    centers.append(center)\n",
    "    means.append(meann)\n",
    "    minns.append(minn)\n",
    "    maxxs.append(maxx)\n",
    "    \n",
    "elapsed = (time.clock()-start)/60\n",
    "print(\"minute used: \",elapsed)"
   ]
  },
  {
   "cell_type": "code",
   "execution_count": 83,
   "metadata": {},
   "outputs": [
    {
     "data": {
      "image/png": "[encoded data removed]",
      "text/plain": [
       "<matplotlib.figure.Figure at 0x1232f4588>"
      ]
     },
     "metadata": {},
     "output_type": "display_data"
    }
   ],
   "source": [
    "from matplotlib import pyplot as plt\n",
    "# plot mean min & max       \n",
    "plt.plot(ks,means)\n",
    "plt.xlabel('k #clusters')\n",
    "plt.ylabel('mean')\n",
    "plt.title(\"Mean distance given different ks (random)\")\n",
    "plt.show()"
   ]
  },
  {
   "cell_type": "code",
   "execution_count": 84,
   "metadata": {},
   "outputs": [
    {
     "name": "stdout",
     "output_type": "stream",
     "text": [
      "meanspp [53.99022454535128, 52.42370319530689, 40.35938393978693, 36.228390159984414, 34.08412557472313, 28.481991420518014, 34.0760859953918, 27.225440522198753, 25.22557177231526, 29.221671454068055, 26.808265574755143, 25.285604197974806]\n",
      "minnspp [0.43435908459693356, 0.3276618865364444, 0.022691269078636805, 0.0, 0.0, 0.0, 0.0, 0.0, 0.0, 0.0, 0.0, 0.0]\n",
      "maxxspp [666405.5850189615, 666644.7085146975, 656671.0289872445, 640606.1448198278, 639642.4571144939, 603579.9510787335, 658154.319256516, 593587.6129568394, 553629.3229722008, 643191.8221670089, 589589.0291315503, 516887.5446114259]\n"
     ]
    }
   ],
   "source": [
    "# mean min max of random method\n",
    "print(\"meanspp\",means)\n",
    "print(\"minnspp\",minns)\n",
    "print(\"maxxspp\",maxxs)"
   ]
  },
  {
   "cell_type": "code",
   "execution_count": 112,
   "metadata": {},
   "outputs": [
    {
     "name": "stdout",
     "output_type": "stream",
     "text": [
      "k 5\n",
      "k 10\n",
      "k 50\n",
      "k 100\n",
      "k 150\n",
      "k 200\n",
      "k 250\n",
      "k 300\n",
      "k 350\n",
      "k 400\n",
      "k 450\n",
      "k 500\n",
      "minute used:  14.793544199999936\n"
     ]
    }
   ],
   "source": [
    "# own method\n",
    "start = time.clock()\n",
    "\n",
    "ks = [5,10,50,100,150,200,250,300,350,400,450,500] # time: 17min\n",
    "# k varies, b=1000, data, T=200\n",
    "centersown = []\n",
    "meansown = []\n",
    "minnsown = []\n",
    "maxxsown = []\n",
    "for k in ks:\n",
    "    print(\"k\",k)\n",
    "    center = minibatchKmeansOwn(k, 1000, dataset, 200)\n",
    "    meann, minn, maxx = evaluate(dataset,center)\n",
    "    centersown.append(center)\n",
    "    meansown.append(meann)\n",
    "    minnsown.append(minn)\n",
    "    maxxsown.append(maxx)\n",
    "    \n",
    "elapsed = (time.clock()-start)/60\n",
    "print(\"minute used: \",elapsed)"
   ]
  },
  {
   "cell_type": "code",
   "execution_count": 113,
   "metadata": {},
   "outputs": [
    {
     "data": {
      "image/png": "[encoded data removed]",
      "text/plain": [
       "<matplotlib.figure.Figure at 0x122a491d0>"
      ]
     },
     "metadata": {},
     "output_type": "display_data"
    }
   ],
   "source": [
    "from matplotlib import pyplot as plt\n",
    "# plot mean min & max       \n",
    "plt.plot(ks,meansown)\n",
    "plt.xlabel('k #clusters')\n",
    "plt.ylabel('mean')\n",
    "plt.title(\"Mean distance given different ks (own)\")\n",
    "plt.show()"
   ]
  },
  {
   "cell_type": "code",
   "execution_count": 114,
   "metadata": {},
   "outputs": [
    {
     "name": "stdout",
     "output_type": "stream",
     "text": [
      "meansown [52.162532229770406, 49.094326979289185, 39.71986468766933, 35.74792616235197, 34.14484180169499, 30.741722133910724, 31.107312262988245, 30.14014908375965, 28.63336032702109, 28.477000236802457, 28.212532566316714, 27.03475129855162]\n",
      "minnsown [0.3305630847189503, 0.5223509617100421, 1.1920928955078125e-07, 0.19952352590828554, 0.14562118126270954, 0.0, 0.1837191934279376, 0.0, 1.1920928955078125e-07, 0.0, 0.0, 0.0]\n",
      "maxxsown [647426.7012010026, 653856.5593648385, 637828.3993235184, 627803.9302922419, 626884.6638306847, 519799.9513442313, 608622.4849194715, 553804.5681877761, 604451.4001840391, 578938.6943853357, 614211.0488500809, 590151.5367824464]\n"
     ]
    }
   ],
   "source": [
    "# mean min max of own method\n",
    "print(\"meansown\",meansown)\n",
    "print(\"minnsown\",minnsown)\n",
    "print(\"maxxsown\",maxxsown)"
   ]
  },
  {
   "cell_type": "code",
   "execution_count": 90,
   "metadata": {},
   "outputs": [
    {
     "name": "stdout",
     "output_type": "stream",
     "text": [
      "k 5\n",
      "k 10\n",
      "k 50\n",
      "k 100\n",
      "k 150\n",
      "k 200\n",
      "k 250\n",
      "k 300\n",
      "k 350\n",
      "k 400\n",
      "k 450\n",
      "k 500\n",
      "minute used:  137.62771431666673\n"
     ]
    }
   ],
   "source": [
    "# kmeans++\n",
    "start = time.clock()\n",
    "\n",
    "ks = [5,10,50,100,150,200,250,300,350,400,450,500]\n",
    "# k varies, b = 1000, data, T = 80\n",
    "centerspp = []\n",
    "meanspp = []\n",
    "minnspp = []\n",
    "maxxspp = []\n",
    "for k in ks:\n",
    "    print(\"k\",k)\n",
    "    center = minibatchKmeanspp(k, 1000, dataset, 100) \n",
    "    meann, minn, maxx = evaluate(dataset,center)\n",
    "    centerspp.append(center)\n",
    "    meanspp.append(meann)\n",
    "    minnspp.append(minn)\n",
    "    maxxspp.append(maxx)\n",
    "    \n",
    "elapsed = (time.clock()-start)/60\n",
    "print(\"minute used: \",elapsed)"
   ]
  },
  {
   "cell_type": "code",
   "execution_count": 91,
   "metadata": {},
   "outputs": [
    {
     "data": {
      "image/png": "[encoded data removed]",
      "text/plain": [
       "<matplotlib.figure.Figure at 0x1232af470>"
      ]
     },
     "metadata": {},
     "output_type": "display_data"
    }
   ],
   "source": [
    "from matplotlib import pyplot as plt\n",
    "# plot mean min & max       \n",
    "plt.plot(ks,meanspp)\n",
    "plt.xlabel('k #clusters')\n",
    "plt.ylabel('mean')\n",
    "plt.title(\"Mean distance given different ks (k++)\")\n",
    "plt.show()"
   ]
  },
  {
   "cell_type": "code",
   "execution_count": 92,
   "metadata": {},
   "outputs": [
    {
     "name": "stdout",
     "output_type": "stream",
     "text": [
      "meanspp [69.76085770489725, 54.486812630305735, 29.97007279654489, 18.683918369660287, 17.10802206252377, 14.09148636744423, 14.872889674042971, 11.401857222979526, 11.342638350318014, 11.465080391869629, 9.745774674100659, 9.992031402104137]\n",
      "minnspp [0.0, 0.0, 0.0, 0.0, 0.0, 0.0, 0.0, 0.0, 0.0, 0.0, 0.0, 0.0]\n",
      "maxxspp [373779.5352383541, 210606.04878777819, 50537.76079329198, 21687.302921294755, 17806.947604797402, 11408.724117972175, 12409.55659965335, 8563.360482310669, 7648.389111440395, 7938.987529905813, 9771.678207964074, 6564.3055230542095]\n"
     ]
    }
   ],
   "source": [
    "# mean min max of kmeans++ method\n",
    "print(\"meanspp\",meanspp)\n",
    "print(\"minnspp\",minnspp)\n",
    "print(\"maxxspp\",maxxspp)"
   ]
  },
  {
   "cell_type": "code",
   "execution_count": 118,
   "metadata": {},
   "outputs": [
    {
     "data": {
      "image/png": "[encoded data removed]",
      "text/plain": [
       "<matplotlib.figure.Figure at 0x122a49978>"
      ]
     },
     "metadata": {},
     "output_type": "display_data"
    }
   ],
   "source": [
    "plt.plot(ks,means)\n",
    "plt.plot(ks,meansown)\n",
    "plt.plot(ks,meanspp)\n",
    "plt.legend(labels = ['random','own','kmeans++'], loc = 'best')\n",
    "plt.xlabel('#clusters k')\n",
    "plt.ylabel('error(mean distance)')\n",
    "plt.title(\"mean distance\")\n",
    "plt.show()"
   ]
  },
  {
   "cell_type": "code",
   "execution_count": 124,
   "metadata": {},
   "outputs": [
    {
     "data": {
      "image/png": "[encoded data removed]",
      "text/plain": [
       "<matplotlib.figure.Figure at 0x122dedf98>"
      ]
     },
     "metadata": {},
     "output_type": "display_data"
    }
   ],
   "source": [
    "plt.plot(ks,maxxs)\n",
    "plt.plot(ks,maxxsown)\n",
    "plt.plot(ks,maxxspp)\n",
    "plt.legend(labels = ['random','own','kmeans++'], loc = 'best')\n",
    "plt.xlabel('#clusters k')\n",
    "plt.ylabel('max distance')\n",
    "plt.title(\"max distance\")\n",
    "plt.show()"
   ]
  },
  {
   "cell_type": "code",
   "execution_count": 125,
   "metadata": {},
   "outputs": [
    {
     "data": {
      "image/png": "[encoded data removed]",
      "text/plain": [
       "<matplotlib.figure.Figure at 0x123102358>"
      ]
     },
     "metadata": {},
     "output_type": "display_data"
    }
   ],
   "source": [
    "plt.plot(ks,minns)\n",
    "plt.plot(ks,minnsown)\n",
    "plt.plot(ks,minnspp)\n",
    "plt.legend(labels = ['random','own','kmeans++'], loc = 'best')\n",
    "plt.xlabel('#clusters k')\n",
    "plt.ylabel('min distance')\n",
    "plt.title(\"min distance\")\n",
    "plt.show()"
   ]
  }
 ],
 "metadata": {
  "kernelspec": {
   "display_name": "Python 3",
   "language": "python",
   "name": "python3"
  },
  "language_info": {
   "codemirror_mode": {
    "name": "ipython",
    "version": 3
   },
   "file_extension": ".py",
   "mimetype": "text/x-python",
   "name": "python",
   "nbconvert_exporter": "python",
   "pygments_lexer": "ipython3",
   "version": "3.6.4"
  }
 },
 "nbformat": 4,
 "nbformat_minor": 2
}
